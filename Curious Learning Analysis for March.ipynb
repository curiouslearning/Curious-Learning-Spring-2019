{
 "cells": [
  {
   "cell_type": "code",
   "execution_count": 17,
   "metadata": {},
   "outputs": [],
   "source": [
    "import os\n",
    "import pandas as pd\n",
    "import json\n",
    "import matplotlib.pyplot as plt\n",
    "import re\n",
    "from collections import Counter\n",
    "import numpy as np\n",
    "\n",
    "os.chdir('C:/Users/tjame/Documents/Curious Learning')\n"
   ]
  },
  {
   "cell_type": "code",
   "execution_count": 8,
   "metadata": {},
   "outputs": [],
   "source": [
    "gP =pd.read_csv(\"gameplay-March.csv\")\n",
    "eD = []\n",
    "with open('user-engage-March.json', encoding = 'utf-8-sig', mode='r') as f:\n",
    "    for line in f:\n",
    "        eD.append(json.loads(line))"
   ]
  },
  {
   "cell_type": "code",
   "execution_count": 11,
   "metadata": {},
   "outputs": [
    {
     "name": "stdout",
     "output_type": "stream",
     "text": [
      "The total engagement time in minutes was 47249.07, of which 46239.23 of those minutes were for GamePlay events. \n",
      "The total engagement time in hours was 787.48, of which 770.65 of those hours were for GamePlay events.\n"
     ]
    }
   ],
   "source": [
    "uniqueUsers = []\n",
    "for i in eD:\n",
    "    if i['user_pseudo_id'] not in uniqueUsers:\n",
    "        uniqueUsers.append(i['user_pseudo_id'])\n",
    "\n",
    "totalEngageTime = 0\n",
    "for i in eD:    \n",
    "    for j in i['event_params']:\n",
    "        if (j['key'] == 'engagement_time_msec'):\n",
    "            totalEngageTime = totalEngageTime + int(j['value']['int_value'])\n",
    "\n",
    "\n",
    "       \n",
    "engageInMins = totalEngageTime/(1000*60)\n",
    "engageInHours = totalEngageTime/(1000*60*60)\n",
    "\n",
    "#gameplay engagement time\n",
    "eventTypes =[]\n",
    "x =0\n",
    "gameplayEngageTime=0\n",
    "for i in eD:\n",
    "    x=x+1\n",
    "    for j in i['event_params']:\n",
    "        if (j['key'] == 'engagement_time_msec'):\n",
    "            time= int(j['value']['int_value'])\n",
    "        if (j['key'] == 'firebase_screen'):\n",
    "            gameplayEngageTime = gameplayEngageTime + time\n",
    "\n",
    "            if(j['value']['string_value'] not in eventTypes):\n",
    "                eventTypes.append(j['value']['string_value'])\n",
    "\n",
    "eventTypes.sort()\n",
    "\n",
    "gamePlayInMins = gameplayEngageTime/(1000*60)\n",
    "gamePlayInHours = gameplayEngageTime/(1000*60*60)\n",
    "\n",
    "\n",
    "print('The total engagement time in minutes was ' + str(round(engageInMins,2)) + ', of which ' + str(round(gamePlayInMins,2)) +\n",
    "      ' of those minutes were for GamePlay events. \\nThe total engagement time in hours was ' + \n",
    "      str(round(engageInHours,2))+ ', of which ' + str(round(gamePlayInHours,2)) +\n",
    "      ' of those hours were for GamePlay events.')"
   ]
  },
  {
   "cell_type": "code",
   "execution_count": 20,
   "metadata": {},
   "outputs": [
    {
     "data": {
      "text/plain": [
       "Text(0.5, 0, 'Number of hours')"
      ]
     },
     "execution_count": 20,
     "metadata": {},
     "output_type": "execute_result"
    },
    {
     "data": {
      "image/png": "[encoded data removed]",
      "text/plain": [
       "<Figure size 432x288 with 1 Axes>"
      ]
     },
     "metadata": {
      "needs_background": "light"
     },
     "output_type": "display_data"
    }
   ],
   "source": [
    "#engagement time for each user\n",
    "userEngage = dict()\n",
    "count = 0\n",
    "while (count<len(uniqueUsers)):\n",
    "    userEngage[uniqueUsers[count]] = 0\n",
    "    count=count+1        \n",
    "\n",
    "\n",
    "for i in uniqueUsers:\n",
    "    for j in eD:\n",
    "        for k in j['event_params']:\n",
    "            if (k['key'] == 'engagement_time_msec'):\n",
    "                time= int(k['value']['int_value'])\n",
    "            if (k['key'] == 'firebase_screen'):\n",
    "                if(j['user_pseudo_id'] == i):\n",
    "                    userEngage[i] = userEngage[i]+ (time/(60*1000))\n",
    "                else:\n",
    "                    pass\n",
    "\n",
    "#active users with 0 engagement time\n",
    "nonActiveUsers=[]\n",
    "for i in userEngage:\n",
    "    if (userEngage[i] ==0):\n",
    "        nonActiveUsers.append(i)\n",
    "\n",
    "\n",
    "plt.hist(userEngage.values(), bins =50)\n",
    "plt.title(\"Frequency of engagement time in hours for users active in March\")\n",
    "plt.xlabel(\"Number of hours\")"
   ]
  },
  {
   "cell_type": "code",
   "execution_count": 23,
   "metadata": {},
   "outputs": [
    {
     "data": {
      "text/plain": [
       "Text(0.5, 0, 'Number of events completed')"
      ]
     },
     "execution_count": 23,
     "metadata": {},
     "output_type": "execute_result"
    },
    {
     "data": {
      "image/png": "[encoded data removed]",
      "text/plain": [
       "<Figure size 432x288 with 1 Axes>"
      ]
     },
     "metadata": {
      "needs_background": "light"
     },
     "output_type": "display_data"
    }
   ],
   "source": [
    "#dictionary of just user and all the events for that user \n",
    "        \n",
    "usersInfo = dict()\n",
    "usersInfo[gP.iloc[0][0]] =[]\n",
    "\n",
    "m = list(range(len(gP)))\n",
    "\n",
    "currentUser = gP.iloc[0][0]\n",
    "for i in m:\n",
    "    if (currentUser == gP.iloc[i][0]):\n",
    "        usersInfo[gP.iloc[i][0]].append(gP.iloc[i][2])\n",
    "    else:\n",
    "        currentUser = gP.iloc[i][0]\n",
    "        usersInfo[gP.iloc[i][0]]=[] \n",
    "    \n",
    "    \n",
    "uI = dict()\n",
    "n = list(range(len(eD)))\n",
    "\n",
    "for i in n:\n",
    "    if (eD[i]['user_pseudo_id'] not in uI):\n",
    "        uI[(eD[i]['user_pseudo_id'])] =[]\n",
    "    for j in eD[i]['event_params']:\n",
    "        if (j['key'] == 'firebase_screen'):\n",
    "            uI[(eD[i]['user_pseudo_id'])].append(j['value']['string_value'])\n",
    "\n",
    "        \n",
    "\n",
    "#hist for events for users\n",
    "eventsCount = dict()     \n",
    "\n",
    "for user in uI:\n",
    "    eventsCount[user]=len(uI[user])\n",
    "\n",
    "plt.hist(eventsCount.values(), bins = 50)\n",
    "plt.title(\"Frequency of events completed for users active in March\")\n",
    "plt.xlabel(\"Number of events completed\")"
   ]
  },
  {
   "cell_type": "code",
   "execution_count": 21,
   "metadata": {},
   "outputs": [],
   "source": [
    "##method for natural sorting (sorting strings with numbers)\n",
    "# =============================================================================\n",
    "def atoi(text):\n",
    "     return int(text) if text.isdigit() else text\n",
    " \n",
    "def natural_keys(text):\n",
    "     '''\n",
    "     alist.sort(key=natural_keys) sorts in human order\n",
    "     http://nedbatchelder.com/blog/200712/human_sorting.html\n",
    "     (See Toothy's implementation in the comments)\n",
    "     '''\n",
    "     return [ atoi(c) for c in re.split(r'(\\d+)', text) ]\n",
    "# ============================================================================="
   ]
  },
  {
   "cell_type": "code",
   "execution_count": 24,
   "metadata": {},
   "outputs": [
    {
     "data": {
      "text/plain": [
       "Text(0.5, 0, 'Number of levels completed')"
      ]
     },
     "execution_count": 24,
     "metadata": {},
     "output_type": "execute_result"
    },
    {
     "data": {
      "image/png": "[encoded data removed]",
      "text/plain": [
       "<Figure size 432x288 with 1 Axes>"
      ]
     },
     "metadata": {
      "needs_background": "light"
     },
     "output_type": "display_data"
    }
   ],
   "source": [
    "#dictionary of first level and last level successses\n",
    "levelSuccess = dict()\n",
    "\n",
    "for key, value in usersInfo.items():\n",
    "    levelSuccess[key] =[] \n",
    "    \n",
    "    lvls =[]\n",
    "    for i in value:\n",
    "        if isinstance(i, str):\n",
    "            if i[0:6] == 'LevelS':\n",
    "                lvls.append(i)\n",
    "    lvls.sort(key=natural_keys)\n",
    "    \n",
    "    if not lvls:\n",
    "        startLevel = \"No level completed\"\n",
    "        endLevel = \"No level completed\"\n",
    "        \n",
    "    else:\n",
    "        startLevel = lvls[0]\n",
    "        endLevel = lvls[len(lvls)-1]\n",
    "    \n",
    "    levelSuccess[key].append(startLevel)\n",
    "    levelSuccess[key].append(endLevel)\n",
    "\n",
    "totalCompleted = dict()\n",
    "\n",
    "for i in uniqueUsers:\n",
    "    ignore= ('True' if levelSuccess.get(i) else 'False')\n",
    "\n",
    "    if (ignore == 'False'):\n",
    "        pass\n",
    "    else:\n",
    "        if (levelSuccess[i][0] == 'No level completed'):\n",
    "            totalCompleted[i] = 0\n",
    "        else:\n",
    "            a = levelSuccess[i][0]\n",
    "            b = levelSuccess[i][1]\n",
    "            \n",
    "            a1 = int(float(re.sub('[^0-9]','', a)))\n",
    "            b1 = int(float(re.sub('[^0-9]','', b)))\n",
    "            \n",
    "    \n",
    "            levelSuccess[i][0] = a1\n",
    "            levelSuccess[i][1] = b1\n",
    "            \n",
    "            totalCompleted[i] = (b1-a1+1)\n",
    "\n",
    "#histogram of users vs levels      \n",
    "plt.hist(totalCompleted.values(), bins =50)\n",
    "plt.title(\"Frequency of levels completed for users active in March\")\n",
    "plt.xlabel(\"Number of levels completed\")"
   ]
  },
  {
   "cell_type": "code",
   "execution_count": 25,
   "metadata": {},
   "outputs": [
    {
     "data": {
      "text/plain": [
       "Text(0.5, 0, 'Level Failed')"
      ]
     },
     "execution_count": 25,
     "metadata": {},
     "output_type": "execute_result"
    },
    {
     "data": {
      "image/png": "[encoded data removed]",
      "text/plain": [
       "<Figure size 432x288 with 1 Axes>"
      ]
     },
     "metadata": {
      "needs_background": "light"
     },
     "output_type": "display_data"
    }
   ],
   "source": [
    "#dictionary of first and last level failures\n",
    "levelFail = dict()\n",
    "for key, value in usersInfo.items():\n",
    "    levelFail[key] =[] \n",
    "    \n",
    "    lvls =[]\n",
    "    for i in value:\n",
    "        if isinstance(i, str):\n",
    "            if i[0:6] == 'LevelF':\n",
    "                lvls.append(i)\n",
    "    lvls.sort(key=natural_keys)\n",
    "    \n",
    "    if not lvls:\n",
    "        startLevel = \"No level Failed\"\n",
    "        endLevel = \"No level Failed\"\n",
    "        \n",
    "    else:\n",
    "        startLevel = lvls[0]\n",
    "        endLevel = lvls[len(lvls)-1]\n",
    "    \n",
    "    levelFail[key].append(startLevel)\n",
    "    levelFail[key].append(endLevel)\n",
    "\n",
    "for i in uniqueUsers:\n",
    "    ignore= ('True' if levelSuccess.get(i) else 'False')\n",
    "\n",
    "    if (ignore == 'False'):\n",
    "        pass\n",
    "    else:\n",
    "        if (levelFail[i][0] == 'No level Failed'):\n",
    "            pass\n",
    "        else:\n",
    "            a = levelFail[i][0]\n",
    "            b = levelFail[i][1]\n",
    "            \n",
    "            a1 = int(float(re.sub('[^0-9]','', a)))\n",
    "            b1 = int(float(re.sub('[^0-9]','', b)))\n",
    "            \n",
    "    \n",
    "            levelFail[i][0] = a1\n",
    "            levelFail[i][1] = b1\n",
    "\n",
    "failed =[]\n",
    "for i in levelFail.values():\n",
    "    if (i == ['No level Failed', 'No level Failed']):\n",
    "        pass\n",
    "    else:\n",
    "        if(failed.append(i[0]) == failed.append(i[1])):\n",
    "            failed.append(i[0])\n",
    "        else:\n",
    "            failed.append(i[0])\n",
    "            failed.append(i[1])\n",
    "            \n",
    "\n",
    "plt.hist(failed, bins =30)\n",
    "plt.title(\"Frequency of levels at which users failed in March\")\n",
    "plt.xlabel(\"Level Failed\")"
   ]
  },
  {
   "cell_type": "code",
   "execution_count": 26,
   "metadata": {},
   "outputs": [
    {
     "data": {
      "text/plain": [
       "['LevelSuccess_1',\n",
       " 'LevelSuccess_2',\n",
       " 'LevelSuccess_3',\n",
       " 'LevelSuccess_4',\n",
       " 'LevelSuccess_5',\n",
       " 'LevelSuccess_6',\n",
       " 'LevelSuccess_7',\n",
       " 'LevelSuccess_8',\n",
       " 'LevelSuccess_9',\n",
       " 'LevelSuccess_10',\n",
       " 'LevelSuccess_11',\n",
       " 'LevelSuccess_12',\n",
       " 'LevelSuccess_13',\n",
       " 'LevelSuccess_14',\n",
       " 'LevelSuccess_15',\n",
       " 'LevelSuccess_16',\n",
       " 'LevelSuccess_17',\n",
       " 'LevelSuccess_18',\n",
       " 'LevelSuccess_19',\n",
       " 'LevelSuccess_20',\n",
       " 'LevelSuccess_21',\n",
       " 'LevelSuccess_22',\n",
       " 'LevelSuccess_23',\n",
       " 'LevelSuccess_24',\n",
       " 'LevelSuccess_25',\n",
       " 'LevelSuccess_26',\n",
       " 'LevelSuccess_27',\n",
       " 'LevelSuccess_28',\n",
       " 'LevelSuccess_29',\n",
       " 'LevelSuccess_30',\n",
       " 'LevelSuccess_31',\n",
       " 'LevelSuccess_32',\n",
       " 'LevelSuccess_33',\n",
       " 'LevelSuccess_34',\n",
       " 'LevelSuccess_35',\n",
       " 'LevelSuccess_36',\n",
       " 'LevelSuccess_37',\n",
       " 'LevelSuccess_38',\n",
       " 'LevelSuccess_39',\n",
       " 'LevelSuccess_40',\n",
       " 'LevelSuccess_41',\n",
       " 'LevelSuccess_42',\n",
       " 'LevelSuccess_43',\n",
       " 'LevelSuccess_44',\n",
       " 'LevelSuccess_45',\n",
       " 'LevelSuccess_46',\n",
       " 'LevelSuccess_47',\n",
       " 'LevelSuccess_48',\n",
       " 'LevelSuccess_49',\n",
       " 'LevelSuccess_50',\n",
       " 'LevelSuccess_51',\n",
       " 'LevelSuccess_52',\n",
       " 'LevelSuccess_53',\n",
       " 'LevelSuccess_54',\n",
       " 'LevelSuccess_55',\n",
       " 'LevelSuccess_56',\n",
       " 'LevelSuccess_57',\n",
       " 'LevelSuccess_58',\n",
       " 'LevelSuccess_59',\n",
       " 'LevelSuccess_60',\n",
       " 'LevelSuccess_61',\n",
       " 'LevelSuccess_62',\n",
       " 'LevelSuccess_63',\n",
       " 'LevelSuccess_64',\n",
       " 'LevelSuccess_65',\n",
       " 'LevelSuccess_66',\n",
       " 'LevelSuccess_67',\n",
       " 'LevelSuccess_68',\n",
       " 'LevelSuccess_69',\n",
       " 'LevelSuccess_70',\n",
       " 'LevelSuccess_71',\n",
       " 'LevelSuccess_72',\n",
       " 'LevelSuccess_73',\n",
       " 'LevelSuccess_74',\n",
       " 'LevelSuccess_75',\n",
       " 'LevelSuccess_76',\n",
       " 'LevelSuccess_77']"
      ]
     },
     "execution_count": 26,
     "metadata": {},
     "output_type": "execute_result"
    }
   ],
   "source": [
    "######### find info for top user of the day\n",
    "import operator\n",
    "topUserID = max(totalCompleted.items(), key=operator.itemgetter(1))[0]\n",
    "topUser = (gP.loc[gP['ID'] == topUserID])['StringValue'].tolist()\n",
    "\n",
    "levels = []\n",
    "for i in topUser:\n",
    "    if isinstance(i, str):\n",
    "        if i[0:6] == 'LevelS':\n",
    "            levels.append(i)\n",
    "\n",
    "levels.sort(key=natural_keys)\n",
    "levels#gives all completed levels"
   ]
  },
  {
   "cell_type": "code",
   "execution_count": 27,
   "metadata": {},
   "outputs": [
    {
     "data": {
      "image/png": "[encoded data removed]",
      "text/plain": [
       "<Figure size 432x288 with 1 Axes>"
      ]
     },
     "metadata": {
      "needs_background": "light"
     },
     "output_type": "display_data"
    }
   ],
   "source": [
    "#hist of countries vs active user\n",
    "\n",
    "userCountry = dict()\n",
    "\n",
    "count = 0\n",
    "while (count<len(uniqueUsers)):\n",
    "    userCountry[uniqueUsers[count]] = ''\n",
    "    count=count+1  \n",
    "for i in uniqueUsers:\n",
    "    if (userCountry[i]==''):\n",
    "    \n",
    "        found = False\n",
    "        x =0\n",
    "        while (not found):\n",
    "            if (eD[x]['user_pseudo_id'] == i):\n",
    "                userCountry[i] = eD[x]['geo']['country']\n",
    "                found = True\n",
    "            else:\n",
    "                x =x+1\n",
    "\n",
    "countryFreq = dict()               \n",
    "for i in userCountry:\n",
    "    if userCountry[i] not in countryFreq:\n",
    "        countryFreq[userCountry[i]] = 1\n",
    "    else:\n",
    "        countryFreq[userCountry[i]] =  countryFreq[userCountry[i]] + 1\n",
    "\n",
    "size = list(range(len(userCountry)))\n",
    "delete = []\n",
    "for i in countryFreq:\n",
    "    if (countryFreq[i] < 10):\n",
    "        pop =''\n",
    "        delete.append(i)\n",
    "\n",
    "size = list(range(len(delete)))\n",
    "\n",
    "for i in size:\n",
    "    del countryFreq[delete[i]]\n",
    " \n",
    "from itertools import repeat\n",
    "cF = []\n",
    "for i in countryFreq:\n",
    "    cF.extend(repeat(i, countryFreq[i]))\n",
    "    \n",
    "\n",
    "counts = Counter(cF)\n",
    "\n",
    "labels, values = zip(*counts.items())\n",
    "\n",
    "indSort = np.argsort(values)[::-1]\n",
    "\n",
    "labels = np.array(labels)[indSort]\n",
    "values = np.array(values)[indSort]\n",
    "\n",
    "indexes = np.arange(len(labels))\n",
    "\n",
    "bar_width = 0.35\n",
    "plt.bar(indexes, values)\n",
    "plt.xticks(indexes + bar_width, labels)\n",
    "plt.tick_params(axis='x', labelrotation=90)\n",
    "plt.title(\"Frequency of users per country for the English app for Marcch\")\n",
    "plt.xlabel(\"Countries\")\n",
    "plt.show()"
   ]
  },
  {
   "cell_type": "code",
   "execution_count": 28,
   "metadata": {},
   "outputs": [
    {
     "data": {
      "image/png": "[encoded data removed]",
      "text/plain": [
       "<Figure size 432x288 with 1 Axes>"
      ]
     },
     "metadata": {
      "needs_background": "light"
     },
     "output_type": "display_data"
    }
   ],
   "source": [
    "##################  \n",
    "#hist of letters vs users\n",
    "usersLetter = dict()\n",
    "\n",
    "for user in usersInfo:\n",
    "    usersLetter[user]=[]\n",
    "    for i in usersInfo[user]:\n",
    "        if (isinstance(i, str)):\n",
    "            if i[0:13] == 'Puzzle Letter':\n",
    "                letter = i[-1:]\n",
    "                usersLetter[user].append(letter)\n",
    "            if i[0:19] == 'Puzzle Sound Letter':\n",
    "                letter = i[-1:]\n",
    "                usersLetter[user].append(letter)\n",
    "\n",
    "uLet = list(usersLetter.values())\n",
    "uL=[]\n",
    "for i in uLet:\n",
    "    for j in i:\n",
    "        uL.append(j)\n",
    "\n",
    "counts = Counter(uL)\n",
    "\n",
    "labels, values = zip(*counts.items())\n",
    "\n",
    "indSort = np.argsort(values)[::-1]\n",
    "\n",
    "labels = np.array(labels)[indSort]\n",
    "values = np.array(values)[indSort]\n",
    "\n",
    "indexes = np.arange(len(labels))\n",
    "\n",
    "bar_width = 0.35\n",
    "plt.bar(indexes, values)\n",
    "plt.xticks(indexes + bar_width, labels)\n",
    "plt.tick_params(axis='x', labelrotation=90)\n",
    "plt.title(\"Frequency of letters acheived by users for the English app for 3/11\")\n",
    "plt.xlabel(\"Letters\")\n",
    "plt.show()\n",
    "\n"
   ]
  },
  {
   "cell_type": "code",
   "execution_count": 29,
   "metadata": {},
   "outputs": [
    {
     "data": {
      "image/png": "[encoded data removed]",
      "text/plain": [
       "<Figure size 432x288 with 1 Axes>"
      ]
     },
     "metadata": {
      "needs_background": "light"
     },
     "output_type": "display_data"
    }
   ],
   "source": [
    "#hist of words vs users\n",
    "\n",
    "usersWords = dict()\n",
    "\n",
    "\n",
    "for user in usersInfo:\n",
    "    usersWords[user]=[]\n",
    "    for i in usersInfo[user]:\n",
    "        if (isinstance(i, str)):\n",
    "            if i[0:11] == 'Puzzle Word':\n",
    "                word = i.split(\": \", 1)[1]\n",
    "                usersWords[user].append(word)\n",
    "            if i[0:17] == 'Puzzle Sound Word':\n",
    "                word = i.split(\": \", 1)[1]\n",
    "                usersWords[user].append(word)\n",
    "                \n",
    "                \n",
    "wordsFreq = dict()               \n",
    "for i in usersWords:\n",
    "    for j in usersWords[i]:\n",
    "        if j not in wordsFreq:\n",
    "            wordsFreq[j] = 1\n",
    "        else:\n",
    "           wordsFreq[j] =  wordsFreq[j] + 1\n",
    "\n",
    "size = list(range(len(usersWords)))\n",
    "delete = []\n",
    "for i in wordsFreq:\n",
    "    if (wordsFreq[i] < 5):\n",
    "        pop =''\n",
    "        delete.append(i)\n",
    "\n",
    "size = list(range(len(delete)))\n",
    "\n",
    "for i in size:\n",
    "    del wordsFreq[delete[i]]\n",
    " \n",
    "from itertools import repeat\n",
    "wF = []\n",
    "for i in wordsFreq:\n",
    "    wF.extend(repeat(i, wordsFreq[i]))\n",
    "\n",
    "counts = Counter(wF)\n",
    "\n",
    "labels, values = zip(*counts.items())\n",
    "\n",
    "indSort = np.argsort(values)[::-1]\n",
    "\n",
    "labels = np.array(labels)[indSort]\n",
    "values = np.array(values)[indSort]\n",
    "\n",
    "indexes = np.arange(len(labels))\n",
    "\n",
    "bar_width = 1\n",
    "plt.bar(indexes, values)\n",
    "plt.xticks(indexes + bar_width, labels)\n",
    "plt.tick_params(axis='x', labelrotation=90)\n",
    "plt.title(\"Frequency of Words acheived by users for the English app for March\")\n",
    "plt.xlabel(\"Words\")\n",
    "plt.show()\n",
    "        "
   ]
  }
 ],
 "metadata": {
  "kernelspec": {
   "display_name": "Python 3",
   "language": "python",
   "name": "python3"
  },
  "language_info": {
   "codemirror_mode": {
    "name": "ipython",
    "version": 3
   },
   "file_extension": ".py",
   "mimetype": "text/x-python",
   "name": "python",
   "nbconvert_exporter": "python",
   "pygments_lexer": "ipython3",
   "version": "3.7.1"
  }
 },
 "nbformat": 4,
 "nbformat_minor": 2
}
